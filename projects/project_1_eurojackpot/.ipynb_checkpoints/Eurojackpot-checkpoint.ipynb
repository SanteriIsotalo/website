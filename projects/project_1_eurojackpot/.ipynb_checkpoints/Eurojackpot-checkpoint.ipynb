{
 "cells": [
  {
   "cell_type": "markdown",
   "id": "f87bcc3b",
   "metadata": {},
   "source": [
    "## Eurojackpotin säännöt"
   ]
  },
  {
   "cell_type": "markdown",
   "id": "efa3009f",
   "metadata": {},
   "source": [
    "Eurojackpotissa yksinkertaistettuna on vain kaksi sääntöä\n",
    "\n",
    "1. Pelaaja valitsee viisi numeroa välillä 1-50\n",
    "2. Pelaaja valitsee kaksi numeroa välillä 1-12\n",
    "\n",
    "Jos näistä osuu vähintään 1+2 tai 2+1, pelaaja voittaa. Voittosumma riippuu siitä, kuinka moni numero osuu oikeaan ja kuinka moni muu pelaaja osui myös oikeaan. Esimerkiksi siis osumalla 5+2 voi parhaillaan saada 120 miljoonaa, mutta jos kaksi pelaajaa saa 5+2, on voitto 60 miljoonaa."
   ]
  },
  {
   "cell_type": "markdown",
   "id": "79c802af",
   "metadata": {},
   "source": [
    "## Kunkin voittoluokan voitot"
   ]
  },
  {
   "cell_type": "markdown",
   "id": "24647f3c",
   "metadata": {},
   "source": [
    "Koska voitot vaihtelevat pelaajien määrän mukaan, voi 2+1 tuoda tiettynä kertana esimerkiksi 7,6€ ja toisena kertana 9,2€. Jotta voimme suorittaa simulaation odotetuille voitoille (tappioille), selvitetään keskimääräinen voitto kullekin voittoluokalle. Sivustolla [euro-jackpot.net](https://www.euro-jackpot.net/fi/tilastot/palkinnot) löytyy alla oleva taulukko, josta voidaan laskea keskimääräinen voitto jokaiselle voittoluokalle.\n",
    "\n",
    "\n",
    "|Voittoluokka|Voittojen kokonaissumma|Voittajat|\n",
    "|:----------:|:---------------------:|:-------:|\n",
    "|5+2|6 619 317 428€ | 175 |\n",
    "|5+1|2 402 578 400€ | 2909 |\n",
    "|5+0|670 755 812€ | 5519 |\n",
    "|4+2|216 896 753€ | 37 864 |\n",
    "|4+1|193 826 629€ | 634 813 |\n",
    "|4+0|143 556 681€ | 1 215 547 |\n",
    "|3+2|158 843 349€ | 1 651 042 |\n",
    "|3+1|493 149 724€| 27 798 097 |\n",
    "|3+0|823 502 932€ | 52 982 811 |\n",
    "|2+2|484 805 921€ | 23 596 579 |\n",
    "|2+1|3 317 418 422€ | 397 632 399 |\n",
    "|1+2|1 235 930 469€| 123 530 970 |"
   ]
  },
  {
   "cell_type": "markdown",
   "id": "04cc9b4e",
   "metadata": {},
   "source": [
    "Keskimääräinen voitto saadaan seuraavalla python-kaavalla:"
   ]
  },
  {
   "cell_type": "code",
   "execution_count": 1,
   "id": "7a21cc58",
   "metadata": {},
   "outputs": [
    {
     "data": {
      "text/html": [
       "<div>\n",
       "<style scoped>\n",
       "    .dataframe tbody tr th:only-of-type {\n",
       "        vertical-align: middle;\n",
       "    }\n",
       "\n",
       "    .dataframe tbody tr th {\n",
       "        vertical-align: top;\n",
       "    }\n",
       "\n",
       "    .dataframe thead th {\n",
       "        text-align: right;\n",
       "    }\n",
       "</style>\n",
       "<table border=\"1\" class=\"dataframe\">\n",
       "  <thead>\n",
       "    <tr style=\"text-align: right;\">\n",
       "      <th></th>\n",
       "      <th>voittoluokka</th>\n",
       "      <th>voittojen kokonaissumma</th>\n",
       "      <th>voittajat</th>\n",
       "      <th>keskimääräinen voitto</th>\n",
       "    </tr>\n",
       "  </thead>\n",
       "  <tbody>\n",
       "    <tr>\n",
       "      <th>0</th>\n",
       "      <td>5+2</td>\n",
       "      <td>6619317428</td>\n",
       "      <td>175</td>\n",
       "      <td>37824671.02</td>\n",
       "    </tr>\n",
       "    <tr>\n",
       "      <th>1</th>\n",
       "      <td>5+1</td>\n",
       "      <td>2402578400</td>\n",
       "      <td>2909</td>\n",
       "      <td>825912.13</td>\n",
       "    </tr>\n",
       "    <tr>\n",
       "      <th>2</th>\n",
       "      <td>5+0</td>\n",
       "      <td>670755812</td>\n",
       "      <td>5519</td>\n",
       "      <td>121535.75</td>\n",
       "    </tr>\n",
       "    <tr>\n",
       "      <th>3</th>\n",
       "      <td>4+2</td>\n",
       "      <td>216896753</td>\n",
       "      <td>37864</td>\n",
       "      <td>5728.31</td>\n",
       "    </tr>\n",
       "    <tr>\n",
       "      <th>4</th>\n",
       "      <td>4+1</td>\n",
       "      <td>193826629</td>\n",
       "      <td>634813</td>\n",
       "      <td>305.33</td>\n",
       "    </tr>\n",
       "    <tr>\n",
       "      <th>5</th>\n",
       "      <td>4+0</td>\n",
       "      <td>143556681</td>\n",
       "      <td>1215547</td>\n",
       "      <td>118.10</td>\n",
       "    </tr>\n",
       "    <tr>\n",
       "      <th>6</th>\n",
       "      <td>3+2</td>\n",
       "      <td>158843349</td>\n",
       "      <td>1651042</td>\n",
       "      <td>96.21</td>\n",
       "    </tr>\n",
       "    <tr>\n",
       "      <th>7</th>\n",
       "      <td>3+1</td>\n",
       "      <td>493149724</td>\n",
       "      <td>27798097</td>\n",
       "      <td>17.74</td>\n",
       "    </tr>\n",
       "    <tr>\n",
       "      <th>8</th>\n",
       "      <td>3+0</td>\n",
       "      <td>823502932</td>\n",
       "      <td>52982811</td>\n",
       "      <td>15.54</td>\n",
       "    </tr>\n",
       "    <tr>\n",
       "      <th>9</th>\n",
       "      <td>2+2</td>\n",
       "      <td>484805921</td>\n",
       "      <td>26596579</td>\n",
       "      <td>18.23</td>\n",
       "    </tr>\n",
       "    <tr>\n",
       "      <th>10</th>\n",
       "      <td>2+1</td>\n",
       "      <td>3317418422</td>\n",
       "      <td>397632399</td>\n",
       "      <td>8.34</td>\n",
       "    </tr>\n",
       "    <tr>\n",
       "      <th>11</th>\n",
       "      <td>1+2</td>\n",
       "      <td>1235930469</td>\n",
       "      <td>123530970</td>\n",
       "      <td>10.01</td>\n",
       "    </tr>\n",
       "  </tbody>\n",
       "</table>\n",
       "</div>"
      ],
      "text/plain": [
       "   voittoluokka  voittojen kokonaissumma  voittajat  keskimääräinen voitto\n",
       "0           5+2               6619317428        175            37824671.02\n",
       "1           5+1               2402578400       2909              825912.13\n",
       "2           5+0                670755812       5519              121535.75\n",
       "3           4+2                216896753      37864                5728.31\n",
       "4           4+1                193826629     634813                 305.33\n",
       "5           4+0                143556681    1215547                 118.10\n",
       "6           3+2                158843349    1651042                  96.21\n",
       "7           3+1                493149724   27798097                  17.74\n",
       "8           3+0                823502932   52982811                  15.54\n",
       "9           2+2                484805921   26596579                  18.23\n",
       "10          2+1               3317418422  397632399                   8.34\n",
       "11          1+2               1235930469  123530970                  10.01"
      ]
     },
     "execution_count": 1,
     "metadata": {},
     "output_type": "execute_result"
    }
   ],
   "source": [
    "import pandas as pd\n",
    "\n",
    "win_categories = ['5+2', '5+1', '5+0', '4+2','4+1', '4+0', '3+2', '3+1', '3+0', '2+2', '2+1', '1+2']\n",
    "paid_prizes = paid_prizes = [6619317428, 2402578400, 670755812, 216896753, 193826629, 143556681,\n",
    "                             158843349, 493149724, 823502932, 484805921, 3317418422, 1235930469]\n",
    "winners = [175, 2909, 5519, 37864, 634813, 1215547, 1651042, 27798097, 52982811, 26596579, 397632399, 123530970]\n",
    "df = pd.DataFrame({\"voittoluokka\": win_categories,\n",
    "                  \"voittojen kokonaissumma\": paid_prizes,\n",
    "                  \"voittajat\": winners})\n",
    "\n",
    "df['keskimääräinen voitto'] = round(df['voittojen kokonaissumma']/df['voittajat'], 2)\n",
    "df"
   ]
  },
  {
   "cell_type": "markdown",
   "id": "f8f1bff4",
   "metadata": {},
   "source": [
    "Tästä taulukosta nähdään siis, että esimerkiksi osumalla 1+2 voitot ovat keskimäärin 10,01 euroa ja päävoitto 5+2 on keskimäärin 37,82 miljoonaa euroa. Seuraavaksi suoritetaan simulaatio, joka laskee voitot seuraavalle 50 vuodelle."
   ]
  },
  {
   "cell_type": "markdown",
   "id": "27d35848",
   "metadata": {},
   "source": [
    "## Simulaatio"
   ]
  },
  {
   "cell_type": "markdown",
   "id": "019f275f",
   "metadata": {},
   "source": [
    "Simulaatio toimii seuraavalla tavalla:\n",
    "\n",
    "1. Syötän yhden pelattavan rivin, tässä tapauksessa sattumalta valitun 5, 24, 25, 28, 29 + 7, 9\n",
    "2. Pelaan vakioriviä joka tiistai ja perjantai, eli 2 kertaa viikossa. Tämä tekee 104 riviä vuodessa ja 5200 riviä 50 vuodessa.\n",
    "3. Simuloin 5200 riviä ja katson montako osumaa tuli kohdassa 1 valittuun riviini\n",
    "4. Toistan tämän simulaation 10000 kertaa, jotta yksittäiset sattumat eivät vaikuta niin paljoa tulokseen."
   ]
  },
  {
   "cell_type": "code",
   "execution_count": 2,
   "id": "b3d997c0",
   "metadata": {},
   "outputs": [
    {
     "name": "stdout",
     "output_type": "stream",
     "text": [
      "5200\n"
     ]
    }
   ],
   "source": [
    "import random\n",
    "\n",
    "def simulator(n_years = 50):\n",
    "    x=0\n",
    "    y = n_years*52*2 #2 times per week for n_years\n",
    "    concurrent_prize = 0\n",
    "    daily_winnings = []\n",
    "    while x < y:\n",
    "        #our chosen row\n",
    "        first_five = [5, 24, 25, 28, 29]\n",
    "        bonus_numbers = [7, 9]\n",
    "\n",
    "        #random number generator\n",
    "        generated_row = random.sample(range(1,51), 5)\n",
    "        generated_bonus = random.sample(range(1,13), 2)\n",
    "\n",
    "        #checking how many numbers match\n",
    "        regular_hits = 0\n",
    "        bonus_hits = 0\n",
    "        for n in generated_row:\n",
    "            if n in first_five:\n",
    "                regular_hits += 1\n",
    "        for n in generated_bonus:\n",
    "            if n in bonus_numbers:\n",
    "                bonus_hits += 1\n",
    "        \n",
    "        #the prizes are copypasted from the df above, -2 is the price of coupon\n",
    "        if (regular_hits == 5 and bonus_hits == 2):\n",
    "            prize = 37824671.02-2\n",
    "        elif (regular_hits == 5 and bonus_hits == 1):\n",
    "            prize = 825912.13-2\n",
    "        elif (regular_hits == 5 and bonus_hits == 0):\n",
    "            prize = 121535.75-2\n",
    "        elif (regular_hits == 4 and bonus_hits == 2):\n",
    "            prize = 5728.31-2\n",
    "        elif (regular_hits == 4 and bonus_hits == 1):\n",
    "            prize = 305.33-2\n",
    "        elif (regular_hits == 4 and bonus_hits == 0):\n",
    "            prize = 118.10-2\n",
    "        elif (regular_hits == 3 and bonus_hits == 2):\n",
    "            prize = 96.21-2\n",
    "        elif (regular_hits == 3 and bonus_hits == 1):\n",
    "            prize = 17.74-2\n",
    "        elif (regular_hits == 3 and bonus_hits == 0):\n",
    "            prize = 15.54-2\n",
    "        elif (regular_hits == 2 and bonus_hits == 2):\n",
    "            prize = 18.23-2\n",
    "        elif (regular_hits == 2 and bonus_hits == 1):\n",
    "            prize = 8.34-2\n",
    "        elif (regular_hits == 1 and bonus_hits == 2):\n",
    "            prize = 10.01-2\n",
    "        #no prize if 0+0, 1+0, 2+0, 0+1 or 0+2\n",
    "        else:\n",
    "            prize = -2\n",
    "        \n",
    "        daily_winnings.append(prize)\n",
    "        '''\n",
    "        # example print one time\n",
    "        if x == 0:\n",
    "            print(f\"Example of one row:\")\n",
    "            print(f\"Our random row:{first_five}, bonus: {bonus_numbers}\")\n",
    "            print(f\"winning row: {generated_row}, bonus: {generated_bonus}\")\n",
    "            print(f\"Regular number matches: {regular_hits}\")\n",
    "            print(f\"Bonus number matches: {bonus_hits}\")\n",
    "            print(f\"Prize: {prize}\")\n",
    "        '''\n",
    "        x+=1\n",
    "    return daily_winnings\n",
    "        \n",
    "prize_list = simulator()\n",
    "print(len(prize_list))"
   ]
  },
  {
   "cell_type": "markdown",
   "id": "685ebc02",
   "metadata": {},
   "source": [
    "Yllä oleva simulaattori palauttaa listan, jossa on 5200 eri voittosummaa. Sen ensimmäiset 10 numeroa näyttää siis tältä:"
   ]
  },
  {
   "cell_type": "code",
   "execution_count": 3,
   "id": "7803ca13",
   "metadata": {},
   "outputs": [
    {
     "data": {
      "text/plain": [
       "[-2, -2, -2, -2, -2, -2, -2, -2, -2, -2]"
      ]
     },
     "execution_count": 3,
     "metadata": {},
     "output_type": "execute_result"
    }
   ],
   "source": [
    "prize_list[:10]"
   ]
  },
  {
   "cell_type": "markdown",
   "id": "b1f02a66",
   "metadata": {},
   "source": [
    "Seuraavaksi suoritan kyseisen 50 vuoden simulaation 100 kertaa, jotta satunnaisuus vaikuttaa vähemmän lopputulokseen. Haluan jokaiselle päivälle ns. keskiarvon, enkä esim vain -2. Ts. luon siis numpyn avulla taulukon, jossa yhdellä rivillä on aina 5200 eri voittoa, ja lasken rivien keskiarvon."
   ]
  },
  {
   "cell_type": "code",
   "execution_count": null,
   "id": "40b6d5ae",
   "metadata": {},
   "outputs": [],
   "source": [
    "import numpy as np\n",
    "\n",
    "n_simulations = 100\n",
    "results = np.zeros((n_simulations, 5200))\n",
    "\n",
    "for i in range(n_simulations):\n",
    "    results[i] = simulator()\n",
    "\n",
    "daily_avg = np.mean(results, axis=0)\n",
    "daily_avg"
   ]
  },
  {
   "cell_type": "markdown",
   "id": "7b8476b2",
   "metadata": {},
   "source": [
    "Lopulta laitetaan tämä aikajanalle, jotta nähdään miltä voittomme seuraavan 50 vuoden ajalta näyttäisivät."
   ]
  },
  {
   "cell_type": "code",
   "execution_count": null,
   "id": "26f0bf1b",
   "metadata": {},
   "outputs": [],
   "source": [
    "import itertools\n",
    "import matplotlib.pyplot as plt\n",
    "\n",
    "#calculating cumulative sum\n",
    "cumulative_sum = list(itertools.accumulate(daily_avg))\n",
    "len(cumulative_sum)\n",
    "\n",
    "#plot\n",
    "plt.style.use('seaborn')\n",
    "plt.plot(cumulative_sum)\n",
    "plt.title(\"Simulaation odotusarvo Eurojackpot-tulokselle 50 vuodessa\")\n",
    "plt.xticks([])\n",
    "plt.text(s=\"2025\", y = -9200, x = 0)\n",
    "plt.text(s=\"2037\", y = -9200, x = 2470)\n",
    "plt.text(s=\"2050\", y = -9200, x = 5100)\n",
    "plt.ylabel(\"Tulos\")\n",
    "plt.xlabel(\"Vuosi\", labelpad=20)\n",
    "plt.show()"
   ]
  },
  {
   "cell_type": "markdown",
   "id": "77e57ad9",
   "metadata": {},
   "source": [
    "## Lopputulos"
   ]
  },
  {
   "cell_type": "markdown",
   "id": "f445cb74",
   "metadata": {},
   "source": [
    "Seuraavaksi katsotaan, olenko itse tällä hetkellä simulaation odotusarvoa paremmalla puolella vai huonommalla puolella. Tämä onnistuu yksinkertaisella datatiedostolla, jossa on kaikki pelaamani Eurojackpot-kierrokset. Tiedosto näyttää tältä."
   ]
  },
  {
   "cell_type": "code",
   "execution_count": null,
   "id": "8c805941",
   "metadata": {},
   "outputs": [],
   "source": [
    "euro_csv = pd.read_csv('eurojackpot.csv', delimiter = \";\")\n",
    "euro_csv.head(5)"
   ]
  },
  {
   "cell_type": "markdown",
   "id": "7582859a",
   "metadata": {},
   "source": [
    "Eli graafina tämän hetken tilanne näyttää tältä."
   ]
  },
  {
   "cell_type": "code",
   "execution_count": null,
   "id": "0a58173e",
   "metadata": {},
   "outputs": [],
   "source": [
    "real_profits = euro_csv['Profit']\n",
    "cumulative_sum_real = list(itertools.accumulate(real_profits))\n",
    "#simulator for same amount of days that I have actually played\n",
    "cumulative_sum_simulator = list(itertools.accumulate(daily_avg[:len(real_profits)]))\n",
    "\n",
    "#plotting\n",
    "plt.figure(figsize=(10,6))\n",
    "plt.style.use('seaborn')\n",
    "plt.plot(euro_csv['Date'], cumulative_sum_real)\n",
    "plt.plot(cumulative_sum_simulator, color = 'red', linestyle = 'dotted')\n",
    "plt.title(\"Toteutuneet tulokset vs. simuloidut tulokset\")\n",
    "plt.legend([\"Toteutuneet\", \"Simulaatio\"])\n",
    "plt.xticks(rotation=45)\n",
    "plt.ylabel(\"Tulos\")\n",
    "plt.xlabel(\"Päivämäärä\")\n",
    "plt.savefig('toteutuneet_vs_simulaatio.png')\n",
    "plt.show()"
   ]
  },
  {
   "cell_type": "markdown",
   "id": "f031eecd",
   "metadata": {},
   "source": [
    "Jos toteutunut viiva on simulaatioviivan yläpuolella, tarkoittaa se sitä, että tuurimme on odotettua parempi. Tässä tapauksessa olemme siis Hannu Hanhia. Jos olemme simulaatioviivan alapuolella, olemme epäonnisia Aku Ankkoja. Tämän saa yksinkertaisella if-lauseella selvitettyä."
   ]
  },
  {
   "cell_type": "code",
   "execution_count": null,
   "id": "d4090d9c",
   "metadata": {},
   "outputs": [],
   "source": [
    "if sum(real_profits) > sum(daily_avg[:len(real_profits)]):\n",
    "    result = \"Hannu Hanhi\"\n",
    "else:\n",
    "    result = \"Aku Ankka\"\n",
    "print(result)\n",
    "#saving file for correct website image\n",
    "with open (\"result.txt\", \"w\") as f:\n",
    "    f.write(result)"
   ]
  }
 ],
 "metadata": {
  "kernelspec": {
   "display_name": "Python 3 (ipykernel)",
   "language": "python",
   "name": "python3"
  },
  "language_info": {
   "codemirror_mode": {
    "name": "ipython",
    "version": 3
   },
   "file_extension": ".py",
   "mimetype": "text/x-python",
   "name": "python",
   "nbconvert_exporter": "python",
   "pygments_lexer": "ipython3",
   "version": "3.9.13"
  }
 },
 "nbformat": 4,
 "nbformat_minor": 5
}
